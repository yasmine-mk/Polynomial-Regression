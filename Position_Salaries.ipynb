{
  "nbformat": 4,
  "nbformat_minor": 0,
  "metadata": {
    "colab": {
      "provenance": [],
      "authorship_tag": "ABX9TyMciqZMnEVQYG47SWAQ7adD",
      "include_colab_link": true
    },
    "kernelspec": {
      "name": "python3",
      "display_name": "Python 3"
    },
    "language_info": {
      "name": "python"
    }
  },
  "cells": [
    {
      "cell_type": "markdown",
      "metadata": {
        "id": "view-in-github",
        "colab_type": "text"
      },
      "source": [
        "<a href=\"https://colab.research.google.com/github/yasmine-mk/Polynomial-Regression/blob/main/Position_Salaries.ipynb\" target=\"_parent\"><img src=\"https://colab.research.google.com/assets/colab-badge.svg\" alt=\"Open In Colab\"/></a>"
      ]
    },
    {
      "cell_type": "markdown",
      "source": [
        "# Polynomial Regression with Feature Engineering applied to Position_Salaries dataset"
      ],
      "metadata": {
        "id": "N-D9HB9-Zv6R"
      }
    },
    {
      "cell_type": "markdown",
      "source": [
        "# key idea \n",
        "allowing a Linear Regression model to fit nonlinear Data structures using feature Engineering "
      ],
      "metadata": {
        "id": "qnNAajKjaxVG"
      }
    },
    {
      "cell_type": "code",
      "execution_count": 34,
      "metadata": {
        "id": "awDbeObQKXhq"
      },
      "outputs": [],
      "source": [
        "#importing libraries\n",
        "import numpy as np\n",
        "import pandas as pd \n",
        "import matplotlib.pyplot as plt\n",
        "import math, copy"
      ]
    },
    {
      "cell_type": "code",
      "source": [
        "df = pd.read_csv(\"Position_Salaries.csv\")"
      ],
      "metadata": {
        "id": "DnoEVzvKLaoD"
      },
      "execution_count": null,
      "outputs": []
    },
    {
      "cell_type": "code",
      "source": [
        "df.info()"
      ],
      "metadata": {
        "colab": {
          "base_uri": "https://localhost:8080/"
        },
        "id": "GuGqmxXDLpd1",
        "outputId": "1053e283-405f-4535-bc2c-a80d940201a8"
      },
      "execution_count": null,
      "outputs": [
        {
          "output_type": "stream",
          "name": "stdout",
          "text": [
            "<class 'pandas.core.frame.DataFrame'>\n",
            "RangeIndex: 10 entries, 0 to 9\n",
            "Data columns (total 3 columns):\n",
            " #   Column    Non-Null Count  Dtype \n",
            "---  ------    --------------  ----- \n",
            " 0   Position  10 non-null     object\n",
            " 1   Level     10 non-null     int64 \n",
            " 2   Salary    10 non-null     int64 \n",
            "dtypes: int64(2), object(1)\n",
            "memory usage: 368.0+ bytes\n"
          ]
        }
      ]
    },
    {
      "cell_type": "code",
      "source": [
        "x = df.iloc[:,1]\n",
        "y = df.iloc[:,-1]"
      ],
      "metadata": {
        "id": "3-bo8gfbLr43"
      },
      "execution_count": 56,
      "outputs": []
    },
    {
      "cell_type": "code",
      "source": [
        "#add engineered feature\n",
        "x_test = np.c_[x,x**2,x**3,x**4]\n",
        "x_test_features = ['x','x^2','x^3','x^4']\n",
        "print(x_test)"
      ],
      "metadata": {
        "id": "tbXeifoDL9_a",
        "colab": {
          "base_uri": "https://localhost:8080/"
        },
        "outputId": "73e24b09-9e5a-417f-852a-4d21e8e76a50"
      },
      "execution_count": 47,
      "outputs": [
        {
          "output_type": "stream",
          "name": "stdout",
          "text": [
            "[[    1     1     1     1]\n",
            " [    2     4     8    16]\n",
            " [    3     9    27    81]\n",
            " [    4    16    64   256]\n",
            " [    5    25   125   625]\n",
            " [    6    36   216  1296]\n",
            " [    7    49   343  2401]\n",
            " [    8    64   512  4096]\n",
            " [    9    81   729  6561]\n",
            " [   10   100  1000 10000]]\n"
          ]
        }
      ]
    },
    {
      "cell_type": "markdown",
      "source": [
        "we are still using linear regression once we have created new features so the idea here is that the best features will be linear relative to the target"
      ],
      "metadata": {
        "id": "pPq12HrSN2X8"
      }
    },
    {
      "cell_type": "code",
      "source": [
        "fig,ax=plt.subplots(1, 4, figsize=(12, 3), sharey=True)\n",
        "for i in range(len(ax)):\n",
        "    ax[i].scatter(x_test[:,i],y)\n",
        "    ax[i].set_xlabel(x_test_features[i])\n",
        "ax[0].set_ylabel(\"y\")\n",
        "plt.show()"
      ],
      "metadata": {
        "colab": {
          "base_uri": "https://localhost:8080/",
          "height": 236
        },
        "id": "mHUQPdCnMcJu",
        "outputId": "b813ebfd-7db0-4e18-fed2-c61220936b50"
      },
      "execution_count": null,
      "outputs": [
        {
          "output_type": "display_data",
          "data": {
            "text/plain": [
              "<Figure size 864x216 with 4 Axes>"
            ],
            "image/png": "[encoded data removed]"
          },
          "metadata": {
            "needs_background": "light"
          }
        }
      ]
    },
    {
      "cell_type": "markdown",
      "source": [
        "the $x^4$ feature mapped against the target value $y$ is the most linear. Linear regression can then easily generate a model using that feature."
      ],
      "metadata": {
        "id": "1xHLwzRMNfGB"
      }
    },
    {
      "cell_type": "markdown",
      "source": [
        "### Implementing Gradient descent for Linear Regresion\n",
        "\n"
      ],
      "metadata": {
        "id": "YXSMx7bUYd6d"
      }
    },
    {
      "cell_type": "code",
      "source": [
        "# Loop version of multi-variable compute_cost\n",
        "def compute_cost(X, y, w, b): \n",
        "    m = X.shape[0]\n",
        "    cost = 0.0\n",
        "    for i in range(m):                                \n",
        "        f_wb_i = np.dot(X[i],w) + b       \n",
        "        cost = cost + (f_wb_i - y[i])**2              \n",
        "    cost = cost/(2*m)                                 \n",
        "    return(np.squeeze(cost)) \n",
        "\n",
        "def compute_gradient_matrix(X, y, w, b):\n",
        "    m,n = X.shape\n",
        "    f_wb = X @ w + b\n",
        "    e   = f_wb - y\n",
        "    dj_dw  = (1/m) * (X.T @ e)\n",
        "    dj_db  = (1/m) * np.sum(e)\n",
        "    return dj_db,dj_dw\n",
        "\n",
        "\n",
        "def gradient_descent(X, y, w_in, b_in, cost_function, gradient_function, alpha, num_iters): \n",
        "    # number of training examples\n",
        "    m = len(X)\n",
        "    \n",
        "    # An array to store values at each iteration primarily for graphing later\n",
        "    hist={}\n",
        "    hist[\"cost\"] = []; hist[\"params\"] = []; hist[\"grads\"]=[]; hist[\"iter\"]=[];\n",
        "    \n",
        "    w = copy.deepcopy(w_in)  #avoid modifying global w within function\n",
        "    b = b_in\n",
        "    save_interval = np.ceil(num_iters/10000) # prevent resource exhaustion for long runs\n",
        "\n",
        "    for i in range(num_iters):\n",
        "\n",
        "        # Calculate the gradient and update the parameters\n",
        "        dj_db,dj_dw = gradient_function(X, y, w, b)   \n",
        "\n",
        "        # Update Parameters using w, b, alpha and gradient\n",
        "        w = w - alpha * dj_dw               \n",
        "        b = b - alpha * dj_db               \n",
        "      \n",
        "        # Save cost J,w,b at each save interval for graphing\n",
        "        if i == 0 or i % save_interval == 0:     \n",
        "            hist[\"cost\"].append(cost_function(X, y, w, b))\n",
        "            hist[\"params\"].append([w,b])\n",
        "            hist[\"grads\"].append([dj_dw,dj_db])\n",
        "            hist[\"iter\"].append(i)\n",
        "\n",
        "        # Print cost every at intervals 10 times or as many iterations if < 10\n",
        "        if i% math.ceil(num_iters/10) == 0:\n",
        "            #print(f\"Iteration {i:4d}: Cost {cost_function(X, y, w, b):8.2f}   \")\n",
        "            cst = cost_function(X, y, w, b)\n",
        "            print(f\"Iteration {i:9d}, Cost: {cst:0.5e}\")\n",
        "    return w, b, hist #return w,b and history for graphing\n",
        "\n",
        "def run_gradient_descent_feng(X,y,iterations=1000, alpha = 1e-6):\n",
        "    m,n = X.shape\n",
        "    # initialize parameters\n",
        "    initial_w = np.zeros(n)\n",
        "    initial_b = 0\n",
        "    # run gradient descent\n",
        "    w_out, b_out, hist_out = gradient_descent(X ,y, initial_w, initial_b,\n",
        "                                               compute_cost, compute_gradient_matrix, alpha, iterations)\n",
        "    print(f\"w,b found by gradient descent: w: {w_out}, b: {b_out:0.4f}\")\n",
        "    \n",
        "    return(w_out, b_out)"
      ],
      "metadata": {
        "id": "qzUHPLxCUrm4"
      },
      "execution_count": 54,
      "outputs": []
    },
    {
      "cell_type": "markdown",
      "source": [
        "### Scaling features"
      ],
      "metadata": {
        "id": "7KeVD0MoY6NW"
      }
    },
    {
      "cell_type": "code",
      "source": [
        "# implementing Z-Score Normalization\n",
        "def zscore_normalize_features(X,rtn_ms=False):\n",
        "    mu     = np.mean(X,axis=0)  \n",
        "    sigma  = np.std(X,axis=0)\n",
        "    X_norm = (X - mu)/sigma      \n",
        "\n",
        "    if rtn_ms:\n",
        "        return(X_norm, mu, sigma)\n",
        "    else:\n",
        "        return(X_norm)\n",
        "    "
      ],
      "metadata": {
        "id": "D0YIZjh_NFN2"
      },
      "execution_count": 31,
      "outputs": []
    },
    {
      "cell_type": "code",
      "source": [
        "# add mean_normalization \n",
        "X = zscore_normalize_features(x_test)     "
      ],
      "metadata": {
        "id": "qT_7kjwFUM4t"
      },
      "execution_count": 59,
      "outputs": []
    },
    {
      "cell_type": "markdown",
      "source": [
        "### Fitting the model and visualization"
      ],
      "metadata": {
        "id": "wqU0uvQ8ZeUz"
      }
    },
    {
      "cell_type": "code",
      "source": [
        "model_w, model_b = run_gradient_descent_feng(X, y, iterations=1000000, alpha=1e-1)\n",
        "\n",
        "plt.scatter(x, y, marker='x', c='r', label=\"Actual Value\"); plt.title(\"Normalized x x**2, x**3, x**4 feature\")\n",
        "plt.plot(x,X@model_w + model_b, label=\"Predicted Value\"); \n",
        "plt.xlabel(\"x\"); \n",
        "plt.ylabel(\"y\"); \n",
        "plt.legend(); plt.show()"
      ],
      "metadata": {
        "colab": {
          "base_uri": "https://localhost:8080/",
          "height": 495
        },
        "id": "NYCt3CpYUeBw",
        "outputId": "b7e2e29e-1f7a-4d44-eade-94bb8f1d52e9"
      },
      "execution_count": 58,
      "outputs": [
        {
          "output_type": "stream",
          "name": "stdout",
          "text": [
            "Iteration         0, Cost: 4.35982e+10\n",
            "Iteration    100000, Cost: 3.70578e+08\n",
            "Iteration    200000, Cost: 2.90983e+08\n",
            "Iteration    300000, Cost: 2.35258e+08\n",
            "Iteration    400000, Cost: 1.96246e+08\n",
            "Iteration    500000, Cost: 1.68933e+08\n",
            "Iteration    600000, Cost: 1.49811e+08\n",
            "Iteration    700000, Cost: 1.36424e+08\n",
            "Iteration    800000, Cost: 1.27051e+08\n",
            "Iteration    900000, Cost: 1.20490e+08\n",
            "w,b found by gradient descent: w: [ -455055.86667652  2462775.47121938 -4219865.08595998  2500835.74220843], b: 249500.0000\n"
          ]
        },
        {
          "output_type": "display_data",
          "data": {
            "text/plain": [
              "<Figure size 432x288 with 1 Axes>"
            ],
            "image/png": "[encoded data removed]"
          },
          "metadata": {
            "needs_background": "light"
          }
        }
      ]
    }
  ]
}